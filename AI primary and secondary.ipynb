{
 "cells": [
  {
   "cell_type": "code",
   "execution_count": 1,
   "id": "5b2e2770",
   "metadata": {},
   "outputs": [],
   "source": [
    "# import all libraries and packages\n",
    "\n",
    "# packages for data analysis\n",
    "import pyforest\n",
    "import numpy as np\n",
    "import pandas as pd\n",
    "from sklearn import svm\n",
    "import tensorflow as tf\n",
    "from pathlib import Path\n",
    "import glob\n",
    "\n",
    "# visual your data\n",
    "import matplotlib.pyplot as plt\n",
    "import seaborn as sns; sns.set(font_scale=1.2)\n",
    "\n",
    "%matplotlib inline"
   ]
  },
  {
   "cell_type": "code",
   "execution_count": 8,
   "id": "4bf24a68",
   "metadata": {
    "scrolled": true
   },
   "outputs": [
    {
     "name": "stdout",
     "output_type": "stream",
     "text": [
      "012018.csv\n",
      "022019.csv\n",
      "032020.csv\n",
      "042021.csv\n",
      "052022.csv\n"
     ]
    }
   ],
   "source": [
    "import os\n",
    "from os import path, environ\n",
    "path_dir = r'C:\\Users\\HP\\Desktop\\dataset'\n",
    "for files in os.listdir(path_dir):\n",
    "    print(files)"
   ]
  },
  {
   "cell_type": "code",
   "execution_count": null,
   "id": "b02fa812",
   "metadata": {},
   "outputs": [],
   "source": []
  },
  {
   "cell_type": "code",
   "execution_count": 95,
   "id": "91d7aa12",
   "metadata": {},
   "outputs": [
    {
     "data": {
      "text/html": [
       "<div>\n",
       "<style scoped>\n",
       "    .dataframe tbody tr th:only-of-type {\n",
       "        vertical-align: middle;\n",
       "    }\n",
       "\n",
       "    .dataframe tbody tr th {\n",
       "        vertical-align: top;\n",
       "    }\n",
       "\n",
       "    .dataframe thead th {\n",
       "        text-align: right;\n",
       "    }\n",
       "</style>\n",
       "<table border=\"1\" class=\"dataframe\">\n",
       "  <thead>\n",
       "    <tr style=\"text-align: right;\">\n",
       "      <th></th>\n",
       "      <th>PACT_ID</th>\n",
       "      <th>MRN</th>\n",
       "      <th>AGE</th>\n",
       "      <th>YEAR_FILE_CREATION</th>\n",
       "      <th>PATIENT_FILE_CREATION_DATE</th>\n",
       "      <th>GENDER</th>\n",
       "      <th>APPOINTMENT_DTM</th>\n",
       "      <th>APPOINTMENT_DATE</th>\n",
       "      <th>APPOINTMENT_DAY</th>\n",
       "      <th>APPOINTMENT_MONTH</th>\n",
       "      <th>...</th>\n",
       "      <th>AVG_DAYS_BETWEEN_TWO_VISITS</th>\n",
       "      <th>SLOT_DURATIONSTART</th>\n",
       "      <th>SLOT_DURATIONEND</th>\n",
       "      <th>SLOT_DURATION</th>\n",
       "      <th>TOTAL_NO_SHOW_COUNT</th>\n",
       "      <th>TOTAL_APPT_COUNT</th>\n",
       "      <th>SMS_SUCCESS</th>\n",
       "      <th>FREE_ELIG_TYPE</th>\n",
       "      <th>PERCENT_OF_PATIENT_FEE_YN</th>\n",
       "      <th>NO_SHOW_RATIO</th>\n",
       "    </tr>\n",
       "  </thead>\n",
       "  <tbody>\n",
       "    <tr>\n",
       "      <th>0</th>\n",
       "      <td>178047</td>\n",
       "      <td>299701</td>\n",
       "      <td>10</td>\n",
       "      <td>2007</td>\n",
       "      <td>16/11/2007</td>\n",
       "      <td>Male</td>\n",
       "      <td>01/01/2018 10:15:00</td>\n",
       "      <td>01/01/2018 00:00:00</td>\n",
       "      <td>1</td>\n",
       "      <td>1</td>\n",
       "      <td>...</td>\n",
       "      <td>150</td>\n",
       "      <td>01/01/2018 10:15:00</td>\n",
       "      <td>01/01/2018 10:44:00</td>\n",
       "      <td>30</td>\n",
       "      <td>1</td>\n",
       "      <td>7</td>\n",
       "      <td>Y</td>\n",
       "      <td>Y</td>\n",
       "      <td>N</td>\n",
       "      <td>14</td>\n",
       "    </tr>\n",
       "    <tr>\n",
       "      <th>1</th>\n",
       "      <td>185799</td>\n",
       "      <td>361480</td>\n",
       "      <td>23</td>\n",
       "      <td>1994</td>\n",
       "      <td>25/12/1994</td>\n",
       "      <td>Female</td>\n",
       "      <td>01/01/2018 13:45:00</td>\n",
       "      <td>01/01/2018 00:00:00</td>\n",
       "      <td>1</td>\n",
       "      <td>1</td>\n",
       "      <td>...</td>\n",
       "      <td>25</td>\n",
       "      <td>01/01/2018 13:45:00</td>\n",
       "      <td>01/01/2018 14:14:00</td>\n",
       "      <td>30</td>\n",
       "      <td>3</td>\n",
       "      <td>21</td>\n",
       "      <td>N</td>\n",
       "      <td>Y</td>\n",
       "      <td>N</td>\n",
       "      <td>14</td>\n",
       "    </tr>\n",
       "    <tr>\n",
       "      <th>2</th>\n",
       "      <td>173078</td>\n",
       "      <td>404313</td>\n",
       "      <td>27</td>\n",
       "      <td>2004</td>\n",
       "      <td>07/09/2004</td>\n",
       "      <td>Female</td>\n",
       "      <td>01/01/2018 08:45:00</td>\n",
       "      <td>01/01/2018 00:00:00</td>\n",
       "      <td>1</td>\n",
       "      <td>1</td>\n",
       "      <td>...</td>\n",
       "      <td>19</td>\n",
       "      <td>01/01/2018 08:45:00</td>\n",
       "      <td>01/01/2018 09:14:00</td>\n",
       "      <td>30</td>\n",
       "      <td>2</td>\n",
       "      <td>21</td>\n",
       "      <td>Y</td>\n",
       "      <td>Y</td>\n",
       "      <td>N</td>\n",
       "      <td>10</td>\n",
       "    </tr>\n",
       "    <tr>\n",
       "      <th>3</th>\n",
       "      <td>188481</td>\n",
       "      <td>501212</td>\n",
       "      <td>29</td>\n",
       "      <td>2000</td>\n",
       "      <td>30/12/2000</td>\n",
       "      <td>Male</td>\n",
       "      <td>01/01/2018 09:15:00</td>\n",
       "      <td>01/01/2018 00:00:00</td>\n",
       "      <td>1</td>\n",
       "      <td>1</td>\n",
       "      <td>...</td>\n",
       "      <td>41</td>\n",
       "      <td>01/01/2018 09:15:00</td>\n",
       "      <td>01/01/2018 09:44:00</td>\n",
       "      <td>30</td>\n",
       "      <td>11</td>\n",
       "      <td>23</td>\n",
       "      <td>N</td>\n",
       "      <td>Y</td>\n",
       "      <td>N</td>\n",
       "      <td>48</td>\n",
       "    </tr>\n",
       "    <tr>\n",
       "      <th>4</th>\n",
       "      <td>172948</td>\n",
       "      <td>507985</td>\n",
       "      <td>38</td>\n",
       "      <td>2004</td>\n",
       "      <td>09/08/2004</td>\n",
       "      <td>Male</td>\n",
       "      <td>01/01/2018 10:45:00</td>\n",
       "      <td>01/01/2018 00:00:00</td>\n",
       "      <td>1</td>\n",
       "      <td>1</td>\n",
       "      <td>...</td>\n",
       "      <td>26</td>\n",
       "      <td>01/01/2018 10:45:00</td>\n",
       "      <td>01/01/2018 11:14:00</td>\n",
       "      <td>30</td>\n",
       "      <td>6</td>\n",
       "      <td>42</td>\n",
       "      <td>Y</td>\n",
       "      <td>Y</td>\n",
       "      <td>N</td>\n",
       "      <td>14</td>\n",
       "    </tr>\n",
       "  </tbody>\n",
       "</table>\n",
       "<p>5 rows × 85 columns</p>\n",
       "</div>"
      ],
      "text/plain": [
       "   PACT_ID     MRN  AGE  YEAR_FILE_CREATION PATIENT_FILE_CREATION_DATE  \\\n",
       "0   178047  299701   10                2007                 16/11/2007   \n",
       "1   185799  361480   23                1994                 25/12/1994   \n",
       "2   173078  404313   27                2004                 07/09/2004   \n",
       "3   188481  501212   29                2000                 30/12/2000   \n",
       "4   172948  507985   38                2004                 09/08/2004   \n",
       "\n",
       "   GENDER      APPOINTMENT_DTM     APPOINTMENT_DATE  APPOINTMENT_DAY  \\\n",
       "0    Male  01/01/2018 10:15:00  01/01/2018 00:00:00                1   \n",
       "1  Female  01/01/2018 13:45:00  01/01/2018 00:00:00                1   \n",
       "2  Female  01/01/2018 08:45:00  01/01/2018 00:00:00                1   \n",
       "3    Male  01/01/2018 09:15:00  01/01/2018 00:00:00                1   \n",
       "4    Male  01/01/2018 10:45:00  01/01/2018 00:00:00                1   \n",
       "\n",
       "   APPOINTMENT_MONTH  ...  AVG_DAYS_BETWEEN_TWO_VISITS   SLOT_DURATIONSTART  \\\n",
       "0                  1  ...                          150  01/01/2018 10:15:00   \n",
       "1                  1  ...                           25  01/01/2018 13:45:00   \n",
       "2                  1  ...                           19  01/01/2018 08:45:00   \n",
       "3                  1  ...                           41  01/01/2018 09:15:00   \n",
       "4                  1  ...                           26  01/01/2018 10:45:00   \n",
       "\n",
       "      SLOT_DURATIONEND SLOT_DURATION TOTAL_NO_SHOW_COUNT TOTAL_APPT_COUNT  \\\n",
       "0  01/01/2018 10:44:00            30                   1                7   \n",
       "1  01/01/2018 14:14:00            30                   3               21   \n",
       "2  01/01/2018 09:14:00            30                   2               21   \n",
       "3  01/01/2018 09:44:00            30                  11               23   \n",
       "4  01/01/2018 11:14:00            30                   6               42   \n",
       "\n",
       "  SMS_SUCCESS  FREE_ELIG_TYPE PERCENT_OF_PATIENT_FEE_YN NO_SHOW_RATIO  \n",
       "0           Y               Y                         N            14  \n",
       "1           N               Y                         N            14  \n",
       "2           Y               Y                         N            10  \n",
       "3           N               Y                         N            48  \n",
       "4           Y               Y                         N            14  \n",
       "\n",
       "[5 rows x 85 columns]"
      ]
     },
     "execution_count": 95,
     "metadata": {},
     "output_type": "execute_result"
    }
   ],
   "source": [
    "data.head()"
   ]
  },
  {
   "cell_type": "code",
   "execution_count": 92,
   "id": "70c38aa8",
   "metadata": {},
   "outputs": [
    {
     "name": "stdout",
     "output_type": "stream",
     "text": [
      "data_file1.csv\n",
      "data_file2.csv\n",
      "data_file3.csv\n",
      "data_file4.csv\n",
      "data_file5.csv\n"
     ]
    }
   ],
   "source": [
    "path_dir =r'C:\\Users\\HP\\Documents\\dataset'\n",
    "for files in os.listdir(path_dir):\n",
    "    print(files)\n",
    "   "
   ]
  },
  {
   "cell_type": "code",
   "execution_count": 42,
   "id": "e47337e7",
   "metadata": {},
   "outputs": [
    {
     "data": {
      "text/plain": [
       "True"
      ]
     },
     "execution_count": 42,
     "metadata": {},
     "output_type": "execute_result"
    }
   ],
   "source": [
    "import os\n",
    "fn=\"C:\\\\Users\\\\HP\\\\Documents\\\\dataset\"\n",
    "os.path.exists(fn)"
   ]
  },
  {
   "cell_type": "code",
   "execution_count": 34,
   "id": "6451a22b",
   "metadata": {},
   "outputs": [
    {
     "data": {
      "text/plain": [
       "'C:\\\\Users\\\\HP\\\\Desktop\\\\AI practical'"
      ]
     },
     "execution_count": 34,
     "metadata": {},
     "output_type": "execute_result"
    }
   ],
   "source": [
    "# find the current working directory:\n",
    "import os\n",
    "os.getcwd()"
   ]
  },
  {
   "cell_type": "code",
   "execution_count": 38,
   "id": "dc289f9d",
   "metadata": {},
   "outputs": [],
   "source": [
    "#change the directory:\n",
    "os.chdir(r'C:\\\\Users\\\\HP\\\\Documents\\\\dataset')"
   ]
  },
  {
   "cell_type": "code",
   "execution_count": 133,
   "id": "26e8cd42",
   "metadata": {},
   "outputs": [],
   "source": [
    "# lazy_imports()"
   ]
  },
  {
   "cell_type": "code",
   "execution_count": null,
   "id": "9b25ca6f",
   "metadata": {},
   "outputs": [],
   "source": []
  },
  {
   "cell_type": "code",
   "execution_count": 143,
   "id": "2dd73bbf",
   "metadata": {},
   "outputs": [
    {
     "data": {
      "text/html": [
       "<div>\n",
       "<style scoped>\n",
       "    .dataframe tbody tr th:only-of-type {\n",
       "        vertical-align: middle;\n",
       "    }\n",
       "\n",
       "    .dataframe tbody tr th {\n",
       "        vertical-align: top;\n",
       "    }\n",
       "\n",
       "    .dataframe thead th {\n",
       "        text-align: right;\n",
       "    }\n",
       "</style>\n",
       "<table border=\"1\" class=\"dataframe\">\n",
       "  <thead>\n",
       "    <tr style=\"text-align: right;\">\n",
       "      <th></th>\n",
       "    </tr>\n",
       "  </thead>\n",
       "  <tbody>\n",
       "  </tbody>\n",
       "</table>\n",
       "</div>"
      ],
      "text/plain": [
       "Empty DataFrame\n",
       "Columns: []\n",
       "Index: []"
      ]
     },
     "execution_count": 143,
     "metadata": {},
     "output_type": "execute_result"
    }
   ],
   "source": []
  }
 ],
 "metadata": {
  "kernelspec": {
   "display_name": "Python 3 (ipykernel)",
   "language": "python",
   "name": "python3"
  },
  "language_info": {
   "codemirror_mode": {
    "name": "ipython",
    "version": 3
   },
   "file_extension": ".py",
   "mimetype": "text/x-python",
   "name": "python",
   "nbconvert_exporter": "python",
   "pygments_lexer": "ipython3",
   "version": "3.9.7"
  }
 },
 "nbformat": 4,
 "nbformat_minor": 5
}
